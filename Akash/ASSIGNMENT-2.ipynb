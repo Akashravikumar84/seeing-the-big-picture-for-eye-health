{
  "cells": [
    {
      "cell_type": "code",
      "execution_count": null,
      "metadata": {
        "colab": {
          "base_uri": "https://localhost:8080/",
          "height": 351
        },
        "id": "8iIPsOGU1nMg",
        "outputId": "2ccc95af-8efb-4701-fee4-3ceb993cdb4b"
      },
      "outputs": [
        {
          "data": {
            "text/html": [
              "\n",
              "  <div id=\"df-70dd441c-2b12-4ca6-a5fd-c8cfa96a0b82\">\n",
              "    <div class=\"colab-df-container\">\n",
              "      <div>\n",
              "<style scoped>\n",
              "    .dataframe tbody tr th:only-of-type {\n",
              "        vertical-align: middle;\n",
              "    }\n",
              "\n",
              "    .dataframe tbody tr th {\n",
              "        vertical-align: top;\n",
              "    }\n",
              "\n",
              "    .dataframe thead th {\n",
              "        text-align: right;\n",
              "    }\n",
              "</style>\n",
              "<table border=\"1\" class=\"dataframe\">\n",
              "  <thead>\n",
              "    <tr style=\"text-align: right;\">\n",
              "      <th></th>\n",
              "      <th>number of bedrooms</th>\n",
              "      <th>number of bathrooms</th>\n",
              "      <th>living area</th>\n",
              "      <th>lot area</th>\n",
              "      <th>number of floors</th>\n",
              "      <th>waterfront present</th>\n",
              "      <th>number of views</th>\n",
              "      <th>condition of the house</th>\n",
              "      <th>grade of the house</th>\n",
              "      <th>Area of the house(excluding basement)</th>\n",
              "      <th>...</th>\n",
              "      <th>Built Year</th>\n",
              "      <th>Renovation Year</th>\n",
              "      <th>Postal Code</th>\n",
              "      <th>Lattitude</th>\n",
              "      <th>Longitude</th>\n",
              "      <th>living_area_renov</th>\n",
              "      <th>lot_area_renov</th>\n",
              "      <th>Number of schools nearby</th>\n",
              "      <th>Distance from the airport</th>\n",
              "      <th>Price</th>\n",
              "    </tr>\n",
              "  </thead>\n",
              "  <tbody>\n",
              "    <tr>\n",
              "      <th>0</th>\n",
              "      <td>5</td>\n",
              "      <td>2.50</td>\n",
              "      <td>3650</td>\n",
              "      <td>9050</td>\n",
              "      <td>2.0</td>\n",
              "      <td>0</td>\n",
              "      <td>4</td>\n",
              "      <td>5</td>\n",
              "      <td>10</td>\n",
              "      <td>3370</td>\n",
              "      <td>...</td>\n",
              "      <td>1921</td>\n",
              "      <td>0</td>\n",
              "      <td>122003</td>\n",
              "      <td>52.8645</td>\n",
              "      <td>-114.557</td>\n",
              "      <td>2880</td>\n",
              "      <td>5400</td>\n",
              "      <td>2</td>\n",
              "      <td>58</td>\n",
              "      <td>2380000</td>\n",
              "    </tr>\n",
              "    <tr>\n",
              "      <th>1</th>\n",
              "      <td>4</td>\n",
              "      <td>2.50</td>\n",
              "      <td>2920</td>\n",
              "      <td>4000</td>\n",
              "      <td>1.5</td>\n",
              "      <td>0</td>\n",
              "      <td>0</td>\n",
              "      <td>5</td>\n",
              "      <td>8</td>\n",
              "      <td>1910</td>\n",
              "      <td>...</td>\n",
              "      <td>1909</td>\n",
              "      <td>0</td>\n",
              "      <td>122004</td>\n",
              "      <td>52.8878</td>\n",
              "      <td>-114.470</td>\n",
              "      <td>2470</td>\n",
              "      <td>4000</td>\n",
              "      <td>2</td>\n",
              "      <td>51</td>\n",
              "      <td>1400000</td>\n",
              "    </tr>\n",
              "    <tr>\n",
              "      <th>2</th>\n",
              "      <td>5</td>\n",
              "      <td>2.75</td>\n",
              "      <td>2910</td>\n",
              "      <td>9480</td>\n",
              "      <td>1.5</td>\n",
              "      <td>0</td>\n",
              "      <td>0</td>\n",
              "      <td>3</td>\n",
              "      <td>8</td>\n",
              "      <td>2910</td>\n",
              "      <td>...</td>\n",
              "      <td>1939</td>\n",
              "      <td>0</td>\n",
              "      <td>122004</td>\n",
              "      <td>52.8852</td>\n",
              "      <td>-114.468</td>\n",
              "      <td>2940</td>\n",
              "      <td>6600</td>\n",
              "      <td>1</td>\n",
              "      <td>53</td>\n",
              "      <td>1200000</td>\n",
              "    </tr>\n",
              "    <tr>\n",
              "      <th>3</th>\n",
              "      <td>4</td>\n",
              "      <td>2.50</td>\n",
              "      <td>3310</td>\n",
              "      <td>42998</td>\n",
              "      <td>2.0</td>\n",
              "      <td>0</td>\n",
              "      <td>0</td>\n",
              "      <td>3</td>\n",
              "      <td>9</td>\n",
              "      <td>3310</td>\n",
              "      <td>...</td>\n",
              "      <td>2001</td>\n",
              "      <td>0</td>\n",
              "      <td>122005</td>\n",
              "      <td>52.9532</td>\n",
              "      <td>-114.321</td>\n",
              "      <td>3350</td>\n",
              "      <td>42847</td>\n",
              "      <td>3</td>\n",
              "      <td>76</td>\n",
              "      <td>838000</td>\n",
              "    </tr>\n",
              "    <tr>\n",
              "      <th>4</th>\n",
              "      <td>3</td>\n",
              "      <td>2.00</td>\n",
              "      <td>2710</td>\n",
              "      <td>4500</td>\n",
              "      <td>1.5</td>\n",
              "      <td>0</td>\n",
              "      <td>0</td>\n",
              "      <td>4</td>\n",
              "      <td>8</td>\n",
              "      <td>1880</td>\n",
              "      <td>...</td>\n",
              "      <td>1929</td>\n",
              "      <td>0</td>\n",
              "      <td>122006</td>\n",
              "      <td>52.9047</td>\n",
              "      <td>-114.485</td>\n",
              "      <td>2060</td>\n",
              "      <td>4500</td>\n",
              "      <td>1</td>\n",
              "      <td>51</td>\n",
              "      <td>805000</td>\n",
              "    </tr>\n",
              "  </tbody>\n",
              "</table>\n",
              "<p>5 rows × 21 columns</p>\n",
              "</div>\n",
              "      <button class=\"colab-df-convert\" onclick=\"convertToInteractive('df-70dd441c-2b12-4ca6-a5fd-c8cfa96a0b82')\"\n",
              "              title=\"Convert this dataframe to an interactive table.\"\n",
              "              style=\"display:none;\">\n",
              "        \n",
              "  <svg xmlns=\"http://www.w3.org/2000/svg\" height=\"24px\"viewBox=\"0 0 24 24\"\n",
              "       width=\"24px\">\n",
              "    <path d=\"M0 0h24v24H0V0z\" fill=\"none\"/>\n",
              "    <path d=\"M18.56 5.44l.94 2.06.94-2.06 2.06-.94-2.06-.94-.94-2.06-.94 2.06-2.06.94zm-11 1L8.5 8.5l.94-2.06 2.06-.94-2.06-.94L8.5 2.5l-.94 2.06-2.06.94zm10 10l.94 2.06.94-2.06 2.06-.94-2.06-.94-.94-2.06-.94 2.06-2.06.94z\"/><path d=\"M17.41 7.96l-1.37-1.37c-.4-.4-.92-.59-1.43-.59-.52 0-1.04.2-1.43.59L10.3 9.45l-7.72 7.72c-.78.78-.78 2.05 0 2.83L4 21.41c.39.39.9.59 1.41.59.51 0 1.02-.2 1.41-.59l7.78-7.78 2.81-2.81c.8-.78.8-2.07 0-2.86zM5.41 20L4 18.59l7.72-7.72 1.47 1.35L5.41 20z\"/>\n",
              "  </svg>\n",
              "      </button>\n",
              "      \n",
              "  <style>\n",
              "    .colab-df-container {\n",
              "      display:flex;\n",
              "      flex-wrap:wrap;\n",
              "      gap: 12px;\n",
              "    }\n",
              "\n",
              "    .colab-df-convert {\n",
              "      background-color: #E8F0FE;\n",
              "      border: none;\n",
              "      border-radius: 50%;\n",
              "      cursor: pointer;\n",
              "      display: none;\n",
              "      fill: #1967D2;\n",
              "      height: 32px;\n",
              "      padding: 0 0 0 0;\n",
              "      width: 32px;\n",
              "    }\n",
              "\n",
              "    .colab-df-convert:hover {\n",
              "      background-color: #E2EBFA;\n",
              "      box-shadow: 0px 1px 2px rgba(60, 64, 67, 0.3), 0px 1px 3px 1px rgba(60, 64, 67, 0.15);\n",
              "      fill: #174EA6;\n",
              "    }\n",
              "\n",
              "    [theme=dark] .colab-df-convert {\n",
              "      background-color: #3B4455;\n",
              "      fill: #D2E3FC;\n",
              "    }\n",
              "\n",
              "    [theme=dark] .colab-df-convert:hover {\n",
              "      background-color: #434B5C;\n",
              "      box-shadow: 0px 1px 3px 1px rgba(0, 0, 0, 0.15);\n",
              "      filter: drop-shadow(0px 1px 2px rgba(0, 0, 0, 0.3));\n",
              "      fill: #FFFFFF;\n",
              "    }\n",
              "  </style>\n",
              "\n",
              "      <script>\n",
              "        const buttonEl =\n",
              "          document.querySelector('#df-70dd441c-2b12-4ca6-a5fd-c8cfa96a0b82 button.colab-df-convert');\n",
              "        buttonEl.style.display =\n",
              "          google.colab.kernel.accessAllowed ? 'block' : 'none';\n",
              "\n",
              "        async function convertToInteractive(key) {\n",
              "          const element = document.querySelector('#df-70dd441c-2b12-4ca6-a5fd-c8cfa96a0b82');\n",
              "          const dataTable =\n",
              "            await google.colab.kernel.invokeFunction('convertToInteractive',\n",
              "                                                     [key], {});\n",
              "          if (!dataTable) return;\n",
              "\n",
              "          const docLinkHtml = 'Like what you see? Visit the ' +\n",
              "            '<a target=\"_blank\" href=https://colab.research.google.com/notebooks/data_table.ipynb>data table notebook</a>'\n",
              "            + ' to learn more about interactive tables.';\n",
              "          element.innerHTML = '';\n",
              "          dataTable['output_type'] = 'display_data';\n",
              "          await google.colab.output.renderOutput(dataTable, element);\n",
              "          const docLink = document.createElement('div');\n",
              "          docLink.innerHTML = docLinkHtml;\n",
              "          element.appendChild(docLink);\n",
              "        }\n",
              "      </script>\n",
              "    </div>\n",
              "  </div>\n",
              "  "
            ],
            "text/plain": [
              "   number of bedrooms  number of bathrooms  living area  lot area  \\\n",
              "0                   5                 2.50         3650      9050   \n",
              "1                   4                 2.50         2920      4000   \n",
              "2                   5                 2.75         2910      9480   \n",
              "3                   4                 2.50         3310     42998   \n",
              "4                   3                 2.00         2710      4500   \n",
              "\n",
              "   number of floors  waterfront present  number of views  \\\n",
              "0               2.0                   0                4   \n",
              "1               1.5                   0                0   \n",
              "2               1.5                   0                0   \n",
              "3               2.0                   0                0   \n",
              "4               1.5                   0                0   \n",
              "\n",
              "   condition of the house  grade of the house  \\\n",
              "0                       5                  10   \n",
              "1                       5                   8   \n",
              "2                       3                   8   \n",
              "3                       3                   9   \n",
              "4                       4                   8   \n",
              "\n",
              "   Area of the house(excluding basement)  ...  Built Year  Renovation Year  \\\n",
              "0                                   3370  ...        1921                0   \n",
              "1                                   1910  ...        1909                0   \n",
              "2                                   2910  ...        1939                0   \n",
              "3                                   3310  ...        2001                0   \n",
              "4                                   1880  ...        1929                0   \n",
              "\n",
              "   Postal Code  Lattitude  Longitude  living_area_renov  lot_area_renov  \\\n",
              "0       122003    52.8645   -114.557               2880            5400   \n",
              "1       122004    52.8878   -114.470               2470            4000   \n",
              "2       122004    52.8852   -114.468               2940            6600   \n",
              "3       122005    52.9532   -114.321               3350           42847   \n",
              "4       122006    52.9047   -114.485               2060            4500   \n",
              "\n",
              "   Number of schools nearby  Distance from the airport    Price  \n",
              "0                         2                         58  2380000  \n",
              "1                         2                         51  1400000  \n",
              "2                         1                         53  1200000  \n",
              "3                         3                         76   838000  \n",
              "4                         1                         51   805000  \n",
              "\n",
              "[5 rows x 21 columns]"
            ]
          },
          "execution_count": 1,
          "metadata": {},
          "output_type": "execute_result"
        }
      ],
      "source": [
        "from sklearn.model_selection import train_test_split\n",
        "from tensorflow.keras.layers import Input, Dense\n",
        "from tensorflow.keras.optimizers import Adam\n",
        "from tensorflow.keras import Sequential\n",
        "from sklearn.metrics import r2_score\n",
        "from matplotlib import pyplot as plt\n",
        "import pandas as pd\n",
        "import numpy as np\n",
        "df = pd.read_csv('/content/sample_data/House Price India.csv')\n",
        "df.drop(['id','Date'], axis=1, inplace=True)\n",
        "df.head()"
      ]
    },
    {
      "cell_type": "code",
      "execution_count": null,
      "metadata": {
        "colab": {
          "base_uri": "https://localhost:8080/"
        },
        "id": "tj2XBmlM135o",
        "outputId": "81dc4396-a26d-47f3-ca8e-521a25b67a9d"
      },
      "outputs": [
        {
          "name": "stdout",
          "output_type": "stream",
          "text": [
            "<class 'pandas.core.frame.DataFrame'>\n",
            "RangeIndex: 14620 entries, 0 to 14619\n",
            "Data columns (total 21 columns):\n",
            " #   Column                                 Non-Null Count  Dtype  \n",
            "---  ------                                 --------------  -----  \n",
            " 0   number of bedrooms                     14620 non-null  int64  \n",
            " 1   number of bathrooms                    14620 non-null  float64\n",
            " 2   living area                            14620 non-null  int64  \n",
            " 3   lot area                               14620 non-null  int64  \n",
            " 4   number of floors                       14620 non-null  float64\n",
            " 5   waterfront present                     14620 non-null  int64  \n",
            " 6   number of views                        14620 non-null  int64  \n",
            " 7   condition of the house                 14620 non-null  int64  \n",
            " 8   grade of the house                     14620 non-null  int64  \n",
            " 9   Area of the house(excluding basement)  14620 non-null  int64  \n",
            " 10  Area of the basement                   14620 non-null  int64  \n",
            " 11  Built Year                             14620 non-null  int64  \n",
            " 12  Renovation Year                        14620 non-null  int64  \n",
            " 13  Postal Code                            14620 non-null  int64  \n",
            " 14  Lattitude                              14620 non-null  float64\n",
            " 15  Longitude                              14620 non-null  float64\n",
            " 16  living_area_renov                      14620 non-null  int64  \n",
            " 17  lot_area_renov                         14620 non-null  int64  \n",
            " 18  Number of schools nearby               14620 non-null  int64  \n",
            " 19  Distance from the airport              14620 non-null  int64  \n",
            " 20  Price                                  14620 non-null  int64  \n",
            "dtypes: float64(4), int64(17)\n",
            "memory usage: 2.3 MB\n"
          ]
        }
      ],
      "source": [
        "df.info()"
      ]
    },
    {
      "cell_type": "code",
      "execution_count": null,
      "metadata": {
        "colab": {
          "base_uri": "https://localhost:8080/"
        },
        "id": "GVihCEQu1_5g",
        "outputId": "7698882c-596d-4c4b-b1ad-0fe8d065e698"
      },
      "outputs": [
        {
          "data": {
            "text/plain": [
              "number of bedrooms                       0\n",
              "number of bathrooms                      0\n",
              "living area                              0\n",
              "lot area                                 0\n",
              "number of floors                         0\n",
              "waterfront present                       0\n",
              "number of views                          0\n",
              "condition of the house                   0\n",
              "grade of the house                       0\n",
              "Area of the house(excluding basement)    0\n",
              "Area of the basement                     0\n",
              "Built Year                               0\n",
              "Renovation Year                          0\n",
              "Postal Code                              0\n",
              "Lattitude                                0\n",
              "Longitude                                0\n",
              "living_area_renov                        0\n",
              "lot_area_renov                           0\n",
              "Number of schools nearby                 0\n",
              "Distance from the airport                0\n",
              "Price                                    0\n",
              "dtype: int64"
            ]
          },
          "execution_count": 3,
          "metadata": {},
          "output_type": "execute_result"
        }
      ],
      "source": [
        "df.isna().sum()"
      ]
    },
    {
      "cell_type": "code",
      "execution_count": null,
      "metadata": {
        "id": "aMM78eJc2Qyn"
      },
      "outputs": [],
      "source": [
        "X = df.drop('Price', axis=1)\n",
        "y = df['Price']"
      ]
    },
    {
      "cell_type": "code",
      "execution_count": null,
      "metadata": {
        "id": "i6ulkpX92TUO"
      },
      "outputs": [],
      "source": [
        "X_train, X_test, y_train, y_test = train_test_split(X, y, test_size=0.2, random_state=12)"
      ]
    },
    {
      "cell_type": "code",
      "execution_count": null,
      "metadata": {
        "colab": {
          "base_uri": "https://localhost:8080/"
        },
        "id": "624xLWHv2Y1t",
        "outputId": "174e6ef0-5812-4430-8b17-962b7d30f65d"
      },
      "outputs": [
        {
          "name": "stdout",
          "output_type": "stream",
          "text": [
            "\n",
            " shape of X_train - (11696, 20)\n",
            "\n",
            " shape of X_test - (2924, 20)\n",
            "\n",
            " shape of y_train - (11696,)\n",
            "\n",
            " shape of y_test - (2924,)\n",
            "\n"
          ]
        }
      ],
      "source": [
        "print(f'\\n shape of X_train - {X_train.shape}\\n')\n",
        "print(f' shape of X_test - {X_test.shape}\\n')\n",
        "print(f' shape of y_train - {y_train.shape}\\n')\n",
        "print(f' shape of y_test - {y_test.shape}\\n')"
      ]
    },
    {
      "cell_type": "code",
      "execution_count": null,
      "metadata": {
        "id": "ziv2HQJg2d0u"
      },
      "outputs": [],
      "source": [
        "number_of_features = len(X.columns)\n",
        "model = Sequential()\n",
        "model.add(layer=Input(shape=number_of_features))\n",
        "model.add(layer=Dense(units=32, activation='relu'))\n",
        "model.add(layer=Dense(units=64, activation='relu'))\n",
        "model.add(layer=Dense(units=128, activation='relu'))\n",
        "model.add(layer=Dense(units=256, activation='relu'))\n",
        "model.add(layer=Dense(units=512, activation='relu'))\n",
        "model.add(layer=Dense(units=1024, activation='relu'))\n",
        "model.add(layer=Dense(units=512, activation='relu'))\n",
        "model.add(layer=Dense(units=256, activation='relu'))\n",
        "model.add(layer=Dense(units=128, activation='relu'))\n",
        "model.add(layer=Dense(units=64, activation='relu'))\n",
        "model.add(layer=Dense(units=32, activation='relu'))\n",
        "model.add(layer=Dense(units=16, activation='relu'))\n",
        "model.add(layer=Dense(units=1, activation='linear'))"
      ]
    },
    {
      "cell_type": "code",
      "execution_count": null,
      "metadata": {
        "id": "tfNoXLdk2kof"
      },
      "outputs": [],
      "source": [
        "adam = Adam(learning_rate=7e-5)\n",
        "model.compile(optimizer=adam, loss='mse', metrics=['mae', 'mape'])"
      ]
    },
    {
      "cell_type": "code",
      "execution_count": null,
      "metadata": {
        "colab": {
          "background_save": true,
          "base_uri": "https://localhost:8080/"
        },
        "id": "iSzsG5q32v8j",
        "outputId": "2838e21b-990a-482a-ecf3-eacea1d33f5d"
      },
      "outputs": [
        {
          "name": "stdout",
          "output_type": "stream",
          "text": [
            "Epoch 1/10\n",
            "366/366 [==============================] - 8s 17ms/step - loss: 175187443712.0000 - mae: 279685.0312 - mape: 58.8297\n",
            "Epoch 2/10\n",
            "366/366 [==============================] - 6s 15ms/step - loss: 115477528576.0000 - mae: 220470.9219 - mape: 50.8720\n",
            "Epoch 3/10\n",
            "366/366 [==============================] - 6s 16ms/step - loss: 92322480128.0000 - mae: 196962.4531 - mape: 44.6362\n",
            "Epoch 4/10\n",
            "366/366 [==============================] - 5s 15ms/step - loss: 64844431360.0000 - mae: 168079.8594 - mape: 35.2971\n",
            "Epoch 5/10\n",
            "366/366 [==============================] - 6s 16ms/step - loss: 59418259456.0000 - mae: 161456.4531 - mape: 33.5183\n",
            "Epoch 6/10\n",
            "366/366 [==============================] - 5s 15ms/step - loss: 58645377024.0000 - mae: 161688.2031 - mape: 33.6820\n",
            "Epoch 7/10\n",
            "366/366 [==============================] - 6s 17ms/step - loss: 57386164224.0000 - mae: 159047.1406 - mape: 33.0563\n",
            "Epoch 8/10\n",
            "366/366 [==============================] - 5s 15ms/step - loss: 55445532672.0000 - mae: 157573.0938 - mape: 32.7899\n",
            "Epoch 9/10\n",
            "366/366 [==============================] - 6s 16ms/step - loss: 55994757120.0000 - mae: 158837.3594 - mape: 33.0904\n",
            "Epoch 10/10\n",
            "366/366 [==============================] - 5s 15ms/step - loss: 54031298560.0000 - mae: 155722.7812 - mape: 32.4047\n"
          ]
        }
      ],
      "source": [
        "history = model.fit(X_train, y_train, epochs=10)"
      ]
    },
    {
      "cell_type": "code",
      "source": [
        "y_pred = model.predict(X_test)"
      ],
      "metadata": {
        "colab": {
          "base_uri": "https://localhost:8080/"
        },
        "id": "SH1rMMI-4X0R",
        "outputId": "78c2fa75-88fd-4570-eb9e-ed40226a6195"
      },
      "execution_count": 11,
      "outputs": [
        {
          "output_type": "stream",
          "name": "stdout",
          "text": [
            "92/92 [==============================] - 0s 3ms/step\n"
          ]
        }
      ]
    },
    {
      "cell_type": "code",
      "source": [
        "y_pred"
      ],
      "metadata": {
        "colab": {
          "base_uri": "https://localhost:8080/"
        },
        "id": "TP9NAup74dFi",
        "outputId": "f95d5e2a-1c58-4970-9b7e-7cb5ed6ffd34"
      },
      "execution_count": 12,
      "outputs": [
        {
          "output_type": "execute_result",
          "data": {
            "text/plain": [
              "array([[388551.  ],\n",
              "       [427433.94],\n",
              "       [462760.9 ],\n",
              "       ...,\n",
              "       [365739.66],\n",
              "       [334354.78],\n",
              "       [571307.4 ]], dtype=float32)"
            ]
          },
          "metadata": {},
          "execution_count": 12
        }
      ]
    },
    {
      "cell_type": "code",
      "source": [
        "y_test"
      ],
      "metadata": {
        "colab": {
          "base_uri": "https://localhost:8080/"
        },
        "id": "xC1lSyl74i1j",
        "outputId": "5dbb9053-69c8-4e79-fd32-6c689759f34c"
      },
      "execution_count": 13,
      "outputs": [
        {
          "output_type": "execute_result",
          "data": {
            "text/plain": [
              "12149    640000\n",
              "13581    650000\n",
              "11595    325000\n",
              "2769     373000\n",
              "7393     355000\n",
              "          ...  \n",
              "7362     497000\n",
              "11132    400000\n",
              "142      366750\n",
              "1405     276000\n",
              "6184     569000\n",
              "Name: Price, Length: 2924, dtype: int64"
            ]
          },
          "metadata": {},
          "execution_count": 13
        }
      ]
    },
    {
      "cell_type": "code",
      "source": [
        "pd.DataFrame({'Actual Value':y_test.values.flatten(), 'Predicted Value':y_pred.flatten()})"
      ],
      "metadata": {
        "colab": {
          "base_uri": "https://localhost:8080/",
          "height": 423
        },
        "id": "G0pgq_jY4rGQ",
        "outputId": "ec959e82-1625-4afa-8462-87fac6227dae"
      },
      "execution_count": 14,
      "outputs": [
        {
          "output_type": "execute_result",
          "data": {
            "text/plain": [
              "      Actual Value  Predicted Value\n",
              "0           640000     388551.00000\n",
              "1           650000     427433.93750\n",
              "2           325000     462760.90625\n",
              "3           373000     423688.53125\n",
              "4           355000     610941.43750\n",
              "...            ...              ...\n",
              "2919        497000     610949.62500\n",
              "2920        400000     383698.31250\n",
              "2921        366750     365739.65625\n",
              "2922        276000     334354.78125\n",
              "2923        569000     571307.37500\n",
              "\n",
              "[2924 rows x 2 columns]"
            ],
            "text/html": [
              "\n",
              "  <div id=\"df-6a6070e8-3bc9-467c-8655-5c4808c73676\">\n",
              "    <div class=\"colab-df-container\">\n",
              "      <div>\n",
              "<style scoped>\n",
              "    .dataframe tbody tr th:only-of-type {\n",
              "        vertical-align: middle;\n",
              "    }\n",
              "\n",
              "    .dataframe tbody tr th {\n",
              "        vertical-align: top;\n",
              "    }\n",
              "\n",
              "    .dataframe thead th {\n",
              "        text-align: right;\n",
              "    }\n",
              "</style>\n",
              "<table border=\"1\" class=\"dataframe\">\n",
              "  <thead>\n",
              "    <tr style=\"text-align: right;\">\n",
              "      <th></th>\n",
              "      <th>Actual Value</th>\n",
              "      <th>Predicted Value</th>\n",
              "    </tr>\n",
              "  </thead>\n",
              "  <tbody>\n",
              "    <tr>\n",
              "      <th>0</th>\n",
              "      <td>640000</td>\n",
              "      <td>388551.00000</td>\n",
              "    </tr>\n",
              "    <tr>\n",
              "      <th>1</th>\n",
              "      <td>650000</td>\n",
              "      <td>427433.93750</td>\n",
              "    </tr>\n",
              "    <tr>\n",
              "      <th>2</th>\n",
              "      <td>325000</td>\n",
              "      <td>462760.90625</td>\n",
              "    </tr>\n",
              "    <tr>\n",
              "      <th>3</th>\n",
              "      <td>373000</td>\n",
              "      <td>423688.53125</td>\n",
              "    </tr>\n",
              "    <tr>\n",
              "      <th>4</th>\n",
              "      <td>355000</td>\n",
              "      <td>610941.43750</td>\n",
              "    </tr>\n",
              "    <tr>\n",
              "      <th>...</th>\n",
              "      <td>...</td>\n",
              "      <td>...</td>\n",
              "    </tr>\n",
              "    <tr>\n",
              "      <th>2919</th>\n",
              "      <td>497000</td>\n",
              "      <td>610949.62500</td>\n",
              "    </tr>\n",
              "    <tr>\n",
              "      <th>2920</th>\n",
              "      <td>400000</td>\n",
              "      <td>383698.31250</td>\n",
              "    </tr>\n",
              "    <tr>\n",
              "      <th>2921</th>\n",
              "      <td>366750</td>\n",
              "      <td>365739.65625</td>\n",
              "    </tr>\n",
              "    <tr>\n",
              "      <th>2922</th>\n",
              "      <td>276000</td>\n",
              "      <td>334354.78125</td>\n",
              "    </tr>\n",
              "    <tr>\n",
              "      <th>2923</th>\n",
              "      <td>569000</td>\n",
              "      <td>571307.37500</td>\n",
              "    </tr>\n",
              "  </tbody>\n",
              "</table>\n",
              "<p>2924 rows × 2 columns</p>\n",
              "</div>\n",
              "      <button class=\"colab-df-convert\" onclick=\"convertToInteractive('df-6a6070e8-3bc9-467c-8655-5c4808c73676')\"\n",
              "              title=\"Convert this dataframe to an interactive table.\"\n",
              "              style=\"display:none;\">\n",
              "        \n",
              "  <svg xmlns=\"http://www.w3.org/2000/svg\" height=\"24px\"viewBox=\"0 0 24 24\"\n",
              "       width=\"24px\">\n",
              "    <path d=\"M0 0h24v24H0V0z\" fill=\"none\"/>\n",
              "    <path d=\"M18.56 5.44l.94 2.06.94-2.06 2.06-.94-2.06-.94-.94-2.06-.94 2.06-2.06.94zm-11 1L8.5 8.5l.94-2.06 2.06-.94-2.06-.94L8.5 2.5l-.94 2.06-2.06.94zm10 10l.94 2.06.94-2.06 2.06-.94-2.06-.94-.94-2.06-.94 2.06-2.06.94z\"/><path d=\"M17.41 7.96l-1.37-1.37c-.4-.4-.92-.59-1.43-.59-.52 0-1.04.2-1.43.59L10.3 9.45l-7.72 7.72c-.78.78-.78 2.05 0 2.83L4 21.41c.39.39.9.59 1.41.59.51 0 1.02-.2 1.41-.59l7.78-7.78 2.81-2.81c.8-.78.8-2.07 0-2.86zM5.41 20L4 18.59l7.72-7.72 1.47 1.35L5.41 20z\"/>\n",
              "  </svg>\n",
              "      </button>\n",
              "      \n",
              "  <style>\n",
              "    .colab-df-container {\n",
              "      display:flex;\n",
              "      flex-wrap:wrap;\n",
              "      gap: 12px;\n",
              "    }\n",
              "\n",
              "    .colab-df-convert {\n",
              "      background-color: #E8F0FE;\n",
              "      border: none;\n",
              "      border-radius: 50%;\n",
              "      cursor: pointer;\n",
              "      display: none;\n",
              "      fill: #1967D2;\n",
              "      height: 32px;\n",
              "      padding: 0 0 0 0;\n",
              "      width: 32px;\n",
              "    }\n",
              "\n",
              "    .colab-df-convert:hover {\n",
              "      background-color: #E2EBFA;\n",
              "      box-shadow: 0px 1px 2px rgba(60, 64, 67, 0.3), 0px 1px 3px 1px rgba(60, 64, 67, 0.15);\n",
              "      fill: #174EA6;\n",
              "    }\n",
              "\n",
              "    [theme=dark] .colab-df-convert {\n",
              "      background-color: #3B4455;\n",
              "      fill: #D2E3FC;\n",
              "    }\n",
              "\n",
              "    [theme=dark] .colab-df-convert:hover {\n",
              "      background-color: #434B5C;\n",
              "      box-shadow: 0px 1px 3px 1px rgba(0, 0, 0, 0.15);\n",
              "      filter: drop-shadow(0px 1px 2px rgba(0, 0, 0, 0.3));\n",
              "      fill: #FFFFFF;\n",
              "    }\n",
              "  </style>\n",
              "\n",
              "      <script>\n",
              "        const buttonEl =\n",
              "          document.querySelector('#df-6a6070e8-3bc9-467c-8655-5c4808c73676 button.colab-df-convert');\n",
              "        buttonEl.style.display =\n",
              "          google.colab.kernel.accessAllowed ? 'block' : 'none';\n",
              "\n",
              "        async function convertToInteractive(key) {\n",
              "          const element = document.querySelector('#df-6a6070e8-3bc9-467c-8655-5c4808c73676');\n",
              "          const dataTable =\n",
              "            await google.colab.kernel.invokeFunction('convertToInteractive',\n",
              "                                                     [key], {});\n",
              "          if (!dataTable) return;\n",
              "\n",
              "          const docLinkHtml = 'Like what you see? Visit the ' +\n",
              "            '<a target=\"_blank\" href=https://colab.research.google.com/notebooks/data_table.ipynb>data table notebook</a>'\n",
              "            + ' to learn more about interactive tables.';\n",
              "          element.innerHTML = '';\n",
              "          dataTable['output_type'] = 'display_data';\n",
              "          await google.colab.output.renderOutput(dataTable, element);\n",
              "          const docLink = document.createElement('div');\n",
              "          docLink.innerHTML = docLinkHtml;\n",
              "          element.appendChild(docLink);\n",
              "        }\n",
              "      </script>\n",
              "    </div>\n",
              "  </div>\n",
              "  "
            ]
          },
          "metadata": {},
          "execution_count": 14
        }
      ]
    },
    {
      "cell_type": "code",
      "source": [
        "r2_score(y_pred=y_pred, y_true=y_test)"
      ],
      "metadata": {
        "colab": {
          "base_uri": "https://localhost:8080/"
        },
        "id": "2fTVZazd4x2g",
        "outputId": "8fcbf11e-50db-4cfb-e932-c36ddbb7a863"
      },
      "execution_count": 15,
      "outputs": [
        {
          "output_type": "execute_result",
          "data": {
            "text/plain": [
              "0.6299702758983454"
            ]
          },
          "metadata": {},
          "execution_count": 15
        }
      ]
    }
  ],
  "metadata": {
    "colab": {
      "provenance": []
    },
    "kernelspec": {
      "display_name": "Python 3",
      "name": "python3"
    },
    "language_info": {
      "name": "python"
    }
  },
  "nbformat": 4,
  "nbformat_minor": 0
}